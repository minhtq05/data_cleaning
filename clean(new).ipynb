{
 "cells": [
  {
   "cell_type": "code",
   "execution_count": 81,
   "metadata": {},
   "outputs": [],
   "source": [
    "import json\n",
    "import os\n",
    "import pandas as pd"
   ]
  },
  {
   "cell_type": "code",
   "execution_count": 82,
   "metadata": {},
   "outputs": [],
   "source": [
    "def read_data(path):\n",
    "    dirs = []\n",
    "    for root, dirs, files in os.walk(path):\n",
    "        for file in files:\n",
    "            if file.endswith('.jsonl'):\n",
    "                dirs.append(os.path.join(root, file))\n",
    "    return dirs"
   ]
  },
  {
   "cell_type": "code",
   "execution_count": 115,
   "metadata": {},
   "outputs": [],
   "source": [
    "# PubMedQA\n",
    "pubmed_l = pd.read_json('./dataset/PubMedQA/ori_pqal.json')\n",
    "pubmed_u = pd.read_json('./dataset/PubMedQA/ori_pqau.json')\n",
    "pubmed_a = pd.read_json('./dataset/PubMedQA/ori_pqaa.json')\n",
    "\n",
    "pubmed_l = pubmed_l.loc[['CONTEXTS', 'QUESTION', 'final_decision']]\n",
    "pubmed_u = pubmed_u.loc[['CONTEXTS', 'QUESTION', 'LONG_ANSWER']]\n",
    "pubmed_a = pubmed_a.loc[['CONTEXTS', 'QUESTION', 'final_decision']]\n",
    "\n",
    "pubmed_l = pubmed_l.T\n",
    "pubmed_u = pubmed_u.T\n",
    "pubmed_a = pubmed_a.T\n",
    "\n",
    "pubmed_l['answer_option'] = [['yes', 'no', 'maybe']] * pubmed_l.shape[0]\n",
    "pubmed_u['answer_option'] = [['yes', 'no', 'maybe']] * pubmed_u.shape[0]\n",
    "pubmed_a['answer_option'] = [['yes', 'no', 'maybe']] * pubmed_a.shape[0]\n",
    "\n",
    "pubmed_l.columns = ['context', 'question', 'answer', 'answer_option']\n",
    "pubmed_u.columns = ['context', 'question', 'answer', 'answer_option']\n",
    "pubmed_a.columns = ['context', 'question', 'answer', 'answer_option']\n",
    "\n",
    "pubmed_l['context'] = pubmed_l['context'].apply(lambda x: ' '.join(x))\n",
    "pubmed_u['context'] = pubmed_u['context'].apply(lambda x: ' '.join(x))\n",
    "pubmed_a['context'] = pubmed_a['context'].apply(lambda x: ' '.join(x))\n",
    "\n",
    "pubmed_l.to_csv('./dataset/PubMedQA/ori_pqal.csv', index=False)\n",
    "pubmed_u.to_csv('./dataset/PubMedQA/ori_pqau.csv', index=False)\n",
    "pubmed_a.to_csv('./dataset/PubMedQA/ori_pqaa.csv', index=False)"
   ]
  },
  {
   "cell_type": "code",
   "execution_count": 116,
   "metadata": {},
   "outputs": [],
   "source": [
    "def medmcqa_process(df):\n",
    "    for i, answer in enumerate(df['answer']):\n",
    "        df.loc[i, 'answer'] = df.loc[i, 'answer_option'][df.loc[i, 'answer'] - 1]\n",
    "\n",
    "    return df"
   ]
  },
  {
   "cell_type": "code",
   "execution_count": 117,
   "metadata": {},
   "outputs": [
    {
     "name": "stderr",
     "output_type": "stream",
     "text": [
      "/var/folders/m_/93q117vx771d47222_mgd0hr0000gn/T/ipykernel_30912/3422122441.py:7: SettingWithCopyWarning: \n",
      "A value is trying to be set on a copy of a slice from a DataFrame.\n",
      "Try using .loc[row_indexer,col_indexer] = value instead\n",
      "\n",
      "See the caveats in the documentation: https://pandas.pydata.org/pandas-docs/stable/user_guide/indexing.html#returning-a-view-versus-a-copy\n",
      "  mcqa_dev.loc[:, 'answer_option'] = pd.Series(\n",
      "/var/folders/m_/93q117vx771d47222_mgd0hr0000gn/T/ipykernel_30912/3422122441.py:10: SettingWithCopyWarning: \n",
      "A value is trying to be set on a copy of a slice from a DataFrame.\n",
      "Try using .loc[row_indexer,col_indexer] = value instead\n",
      "\n",
      "See the caveats in the documentation: https://pandas.pydata.org/pandas-docs/stable/user_guide/indexing.html#returning-a-view-versus-a-copy\n",
      "  mcqa_dev.loc[:, 'answer'] = df_dev.loc[:, 'cop']\n",
      "/var/folders/m_/93q117vx771d47222_mgd0hr0000gn/T/ipykernel_30912/3422122441.py:14: SettingWithCopyWarning: \n",
      "A value is trying to be set on a copy of a slice from a DataFrame.\n",
      "Try using .loc[row_indexer,col_indexer] = value instead\n",
      "\n",
      "See the caveats in the documentation: https://pandas.pydata.org/pandas-docs/stable/user_guide/indexing.html#returning-a-view-versus-a-copy\n",
      "  mcqa_test.loc[:, 'answer_option'] = pd.Series(\n",
      "/var/folders/m_/93q117vx771d47222_mgd0hr0000gn/T/ipykernel_30912/3422122441.py:19: SettingWithCopyWarning: \n",
      "A value is trying to be set on a copy of a slice from a DataFrame.\n",
      "Try using .loc[row_indexer,col_indexer] = value instead\n",
      "\n",
      "See the caveats in the documentation: https://pandas.pydata.org/pandas-docs/stable/user_guide/indexing.html#returning-a-view-versus-a-copy\n",
      "  mcqa_train.loc[:, 'answer_option'] = pd.Series(\n",
      "/var/folders/m_/93q117vx771d47222_mgd0hr0000gn/T/ipykernel_30912/3422122441.py:22: SettingWithCopyWarning: \n",
      "A value is trying to be set on a copy of a slice from a DataFrame.\n",
      "Try using .loc[row_indexer,col_indexer] = value instead\n",
      "\n",
      "See the caveats in the documentation: https://pandas.pydata.org/pandas-docs/stable/user_guide/indexing.html#returning-a-view-versus-a-copy\n",
      "  mcqa_train.loc[:, 'answer'] = df_train.loc[:, 'cop']\n"
     ]
    }
   ],
   "source": [
    "# MedMCQA\n",
    "df_dev = pd.read_json('./dataset/MCQA/dev.json', lines=True)\n",
    "df_test = pd.read_json('./dataset/MCQA/test.json', lines=True)\n",
    "df_train = pd.read_json('./dataset/MCQA/train.json', lines=True)\n",
    "\n",
    "mcqa_dev = df_dev[['subject_name', 'question']]\n",
    "mcqa_dev.loc[:, 'answer_option'] = pd.Series(\n",
    "    df_dev[['opa', 'opb', 'opc', 'opd']].values.tolist())\n",
    "mcqa_dev.columns = ['context', 'question', 'answer_option']\n",
    "mcqa_dev.loc[:, 'answer'] = df_dev.loc[:, 'cop']\n",
    "medmcqa_process(mcqa_dev)\n",
    "\n",
    "mcqa_test = df_test[['subject_name', 'question']]\n",
    "mcqa_test.loc[:, 'answer_option'] = pd.Series(\n",
    "    df_test[['opa', 'opb', 'opc', 'opd']].values.tolist())\n",
    "mcqa_test.columns = ['context', 'question', 'answer_option']\n",
    "\n",
    "mcqa_train = df_train[['subject_name', 'question']]\n",
    "mcqa_train.loc[:, 'answer_option'] = pd.Series(\n",
    "    df_train[['opa', 'opb', 'opc', 'opd']].values.tolist())\n",
    "mcqa_train.columns = ['context', 'question', 'answer_option']\n",
    "mcqa_train.loc[:, 'answer'] = df_train.loc[:, 'cop']\n",
    "medmcqa_process(mcqa_train)\n",
    "\n",
    "mcqa_dev.to_csv('./dataset/MCQA/dev.csv', index=False)\n",
    "mcqa_test.to_csv('./dataset/MCQA/test.csv', index=False)\n",
    "mcqa_train.to_csv('./dataset/MCQA/train.csv', index=False)"
   ]
  },
  {
   "cell_type": "code",
   "execution_count": 118,
   "metadata": {},
   "outputs": [],
   "source": [
    "def process(df):\n",
    "    data = df[['meta_info', 'question', 'options', 'answer']]\n",
    "    data = data.rename(columns={'meta_info': 'context',\n",
    "                       'question': 'question', 'options': 'answer_option'})\n",
    "    if (type(data['answer_option'][0]) == dict):\n",
    "        data['answer_option'] = data['answer_option'].apply(\n",
    "            lambda x: list(x.values()))\n",
    "    if (type(data['answer'][0]) == str and len(data['answer'][0]) == 1):\n",
    "        for i, answer in enumerate(data['answer']):\n",
    "            data['answer'][i] = data['answer_option'][i][ord(\n",
    "                data['answer'][i]) - 65]\n",
    "    return data"
   ]
  },
  {
   "cell_type": "code",
   "execution_count": 119,
   "metadata": {},
   "outputs": [
    {
     "name": "stdout",
     "output_type": "stream",
     "text": [
      "['./dataset/data_clean/questions/Mainland/4_options/train.jsonl', './dataset/data_clean/questions/Mainland/4_options/test.jsonl', './dataset/data_clean/questions/Mainland/4_options/dev.jsonl']\n"
     ]
    }
   ],
   "source": [
    "# MedQA-USMLE\n",
    "dirs = read_data('./dataset/data_clean/')\n",
    "\n",
    "print(dirs)\n",
    "\n",
    "file = [pd.read_json(file_path, lines=True) for file_path in dirs]\n",
    "\n",
    "datasets = [(process(file), file_path) for file, file_path in zip(file, dirs)]\n",
    "\n",
    "for (dataset, file_path) in datasets:\n",
    "    dataset.to_csv(file_path[:-5] + 'csv', index=False)\n"
   ]
  }
 ],
 "metadata": {
  "kernelspec": {
   "display_name": "Python 3",
   "language": "python",
   "name": "python3"
  },
  "language_info": {
   "codemirror_mode": {
    "name": "ipython",
    "version": 3
   },
   "file_extension": ".py",
   "mimetype": "text/x-python",
   "name": "python",
   "nbconvert_exporter": "python",
   "pygments_lexer": "ipython3",
   "version": "3.11.0"
  }
 },
 "nbformat": 4,
 "nbformat_minor": 2
}
