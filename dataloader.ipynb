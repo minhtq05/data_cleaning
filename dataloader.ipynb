{
 "cells": [
  {
   "cell_type": "code",
   "execution_count": 76,
   "metadata": {},
   "outputs": [],
   "source": [
    "import torch\n",
    "from torch.utils.data import Dataset, DataLoader\n",
    "import pandas as pd\n",
    "import numpy as np"
   ]
  },
  {
   "cell_type": "code",
   "execution_count": 77,
   "metadata": {},
   "outputs": [],
   "source": [
    "class MedQuestionDataset(Dataset):\n",
    "    def __init__(self, csv_file, root_dir):\n",
    "        self.data = pd.read_csv(csv_file)\n",
    "        self.root_dir = root_dir\n",
    "    \n",
    "    def __len__(self):\n",
    "        return len(self.data)\n",
    "    \n",
    "    def __getitem__(self, i):\n",
    "        context = self.data.iloc[i]['context']\n",
    "        question = self.data.iloc[i]['question']\n",
    "        answer_options = self.data.iloc[i]['answer_option']\n",
    "        if ('answer' in self.data.columns):\n",
    "            answer = self.data.iloc[i]['answer']\n",
    "        else:\n",
    "            answer = None\n",
    "            \n",
    "        sample = {\n",
    "            'context': context,\n",
    "            'question': question,\n",
    "            'answer_option': answer_options,\n",
    "            'answer': answer,\n",
    "        }\n",
    "\n",
    "        return sample"
   ]
  },
  {
   "cell_type": "code",
   "execution_count": 82,
   "metadata": {},
   "outputs": [
    {
     "name": "stdout",
     "output_type": "stream",
     "text": [
      "0 Do mitochondria play a role in remodelling lace plant leaves during programmed cell death?\n",
      "1 Landolt C and snellen e acuity: differences in strabismus amblyopia?\n",
      "2 Syncope during bathing in infants, a pediatric form of water-induced urticaria?\n",
      "3 Are the long-term results of the transanal pull-through equal to those of the transabdominal pull-through?\n",
      "4 Can tailored interventions increase mammography use among HMO women?\n",
      "5 Double balloon enteroscopy: is it efficacious and safe in a community setting?\n",
      "6 30-Day and 1-year mortality in emergency general surgery laparotomies: an area of concern and need for improvement?\n",
      "7 Is adjustment for reporting heterogeneity necessary in sleep disorders?\n",
      "8 Do mutations causing low HDL-C promote increased carotid intima-media thickness?\n",
      "9 A short stay or 23-hour ward in a general and academic children's hospital: are they effective?\n"
     ]
    }
   ],
   "source": [
    "dataset = MedQuestionDataset('data/ori_pqal.csv', 'data/')\n",
    "\n",
    "for i, sample in enumerate(dataset):\n",
    "    print(i, sample['question'])"
   ]
  },
  {
   "cell_type": "code",
   "execution_count": 79,
   "metadata": {},
   "outputs": [],
   "source": [
    "# def custom_batch(batch):\n",
    "#     context_batch = [item['context'] for item in batch]\n",
    "#     question_batch = [item['question'] for item in batch]\n",
    "#     answer_option_batch = [item['answer_option'] for item in batch]\n",
    "#     answer_batch = [item['answer'] for item in batch]\n",
    "\n",
    "#     return {\n",
    "#         'context': context_batch,\n",
    "#         'question': question_batch,\n",
    "#         'answer_option': answer_option_batch,\n",
    "#         'answer': answer_batch,\n",
    "#     }"
   ]
  },
  {
   "cell_type": "code",
   "execution_count": 80,
   "metadata": {},
   "outputs": [],
   "source": [
    "BATCH_SIZE = 100\n",
    "SHUFFLE = True\n",
    "\n",
    "dataloader = DataLoader(\n",
    "    dataset=dataset, \n",
    "    batch_size=BATCH_SIZE, \n",
    "    shuffle=SHUFFLE,\n",
    ")"
   ]
  },
  {
   "cell_type": "code",
   "execution_count": 81,
   "metadata": {},
   "outputs": [
    {
     "name": "stdout",
     "output_type": "stream",
     "text": [
      "0 ['Is adjustment for reporting heterogeneity necessary in sleep disorders?', '30-Day and 1-year mortality in emergency general surgery laparotomies: an area of concern and need for improvement?', 'Double balloon enteroscopy: is it efficacious and safe in a community setting?', 'Are the long-term results of the transanal pull-through equal to those of the transabdominal pull-through?']\n",
      "1 ['Can tailored interventions increase mammography use among HMO women?', \"A short stay or 23-hour ward in a general and academic children's hospital: are they effective?\", 'Do mutations causing low HDL-C promote increased carotid intima-media thickness?', 'Syncope during bathing in infants, a pediatric form of water-induced urticaria?']\n",
      "2 ['Landolt C and snellen e acuity: differences in strabismus amblyopia?', 'Do mitochondria play a role in remodelling lace plant leaves during programmed cell death?']\n"
     ]
    }
   ],
   "source": [
    "for i_batch, sample_batched in enumerate(dataloader):\n",
    "    print(i_batch, sample_batched['question'])"
   ]
  },
  {
   "cell_type": "code",
   "execution_count": null,
   "metadata": {},
   "outputs": [],
   "source": []
  }
 ],
 "metadata": {
  "kernelspec": {
   "display_name": "Python 3",
   "language": "python",
   "name": "python3"
  },
  "language_info": {
   "codemirror_mode": {
    "name": "ipython",
    "version": 3
   },
   "file_extension": ".py",
   "mimetype": "text/x-python",
   "name": "python",
   "nbconvert_exporter": "python",
   "pygments_lexer": "ipython3",
   "version": "3.11.0"
  }
 },
 "nbformat": 4,
 "nbformat_minor": 2
}
